{
 "cells": [
  {
   "cell_type": "markdown",
   "id": "c80a649c",
   "metadata": {
    "papermill": {
     "duration": 0.014445,
     "end_time": "2023-10-20T04:19:53.628311",
     "exception": false,
     "start_time": "2023-10-20T04:19:53.613866",
     "status": "completed"
    },
    "tags": []
   },
   "source": [
    "<span style=\"background-color:red;\n",
    "             color:white;\n",
    "             font-size:17px;\n",
    "             text-align:center;\n",
    "             border-radius:30px 80px;\n",
    "             font-weight:bold;\n",
    "             border:2px solid red;\n",
    "             padding:0px 20px;\">1. Importing Libraries\n",
    "</span>"
   ]
  },
  {
   "cell_type": "code",
   "execution_count": 34,
   "id": "f34c9005",
   "metadata": {
    "execution": {
     "iopub.execute_input": "2023-10-20T04:19:53.660406Z",
     "iopub.status.busy": "2023-10-20T04:19:53.659566Z",
     "iopub.status.idle": "2023-10-20T04:19:54.963585Z",
     "shell.execute_reply": "2023-10-20T04:19:54.962547Z"
    },
    "papermill": {
     "duration": 1.323142,
     "end_time": "2023-10-20T04:19:54.966346",
     "exception": false,
     "start_time": "2023-10-20T04:19:53.643204",
     "status": "completed"
    },
    "tags": []
   },
   "outputs": [],
   "source": [
    "import pandas as pd\n",
    "import numpy as np\n",
    "import seaborn as sns \n",
    "import matplotlib.pyplot as plt\n",
    "%matplotlib inline \n",
    "\n",
    "import warnings\n",
    "warnings.filterwarnings(\"ignore\")"
   ]
  },
  {
   "cell_type": "code",
   "execution_count": 35,
   "id": "b6b68e4e",
   "metadata": {
    "execution": {
     "iopub.execute_input": "2023-10-20T04:19:54.997577Z",
     "iopub.status.busy": "2023-10-20T04:19:54.997196Z",
     "iopub.status.idle": "2023-10-20T04:19:55.002989Z",
     "shell.execute_reply": "2023-10-20T04:19:55.001717Z"
    },
    "papermill": {
     "duration": 0.023947,
     "end_time": "2023-10-20T04:19:55.005059",
     "exception": false,
     "start_time": "2023-10-20T04:19:54.981112",
     "status": "completed"
    },
    "tags": []
   },
   "outputs": [],
   "source": [
    "pd.set_option('display.max_columns',None)\n",
    "pd.set_option('display.max_rows',None)\n",
    "pd.set_option('precision',3)"
   ]
  },
  {
   "cell_type": "markdown",
   "id": "427236de",
   "metadata": {
    "papermill": {
     "duration": 0.014415,
     "end_time": "2023-10-20T04:19:55.034725",
     "exception": false,
     "start_time": "2023-10-20T04:19:55.020310",
     "status": "completed"
    },
    "tags": []
   },
   "source": [
    "<span style=\"background-color:red;\n",
    "             color:white;\n",
    "             font-size:17px;\n",
    "             text-align:center;\n",
    "             border-radius:30px 80px;\n",
    "             font-weight:bold;\n",
    "             border:2px solid red;\n",
    "             padding:0px 20px;\">2. Importing Power Generation & Weather Sensor Data\n",
    "</span>"
   ]
  },
  {
   "cell_type": "code",
   "execution_count": 36,
   "id": "8d718628",
   "metadata": {
    "execution": {
     "iopub.execute_input": "2023-10-20T04:19:55.066925Z",
     "iopub.status.busy": "2023-10-20T04:19:55.066017Z",
     "iopub.status.idle": "2023-10-20T04:19:55.254012Z",
     "shell.execute_reply": "2023-10-20T04:19:55.252824Z"
    },
    "papermill": {
     "duration": 0.207384,
     "end_time": "2023-10-20T04:19:55.256814",
     "exception": false,
     "start_time": "2023-10-20T04:19:55.049430",
     "status": "completed"
    },
    "tags": []
   },
   "outputs": [],
   "source": [
    "generation_data = pd.read_csv('input/solar-power/Plant_2_Generation_Data.csv')"
   ]
  },
  {
   "cell_type": "code",
   "execution_count": 37,
   "id": "9b01c3ed",
   "metadata": {
    "execution": {
     "iopub.execute_input": "2023-10-20T04:19:55.288101Z",
     "iopub.status.busy": "2023-10-20T04:19:55.287697Z",
     "iopub.status.idle": "2023-10-20T04:19:55.314652Z",
     "shell.execute_reply": "2023-10-20T04:19:55.313568Z"
    },
    "papermill": {
     "duration": 0.045604,
     "end_time": "2023-10-20T04:19:55.317357",
     "exception": false,
     "start_time": "2023-10-20T04:19:55.271753",
     "status": "completed"
    },
    "tags": []
   },
   "outputs": [],
   "source": [
    "weather_data = pd.read_csv('input/solar-power/Plant_2_Weather_Sensor_Data.csv')"
   ]
  },
  {
   "cell_type": "markdown",
   "id": "3c713e1f",
   "metadata": {
    "papermill": {
     "duration": 0.014734,
     "end_time": "2023-10-20T04:19:55.523349",
     "exception": false,
     "start_time": "2023-10-20T04:19:55.508615",
     "status": "completed"
    },
    "tags": []
   },
   "source": [
    "<span style=\"background-color:red;\n",
    "             color:white;\n",
    "             font-size:17px;\n",
    "             text-align:center;\n",
    "             border-radius:30px 80px;\n",
    "             font-weight:bold;\n",
    "             border:2px solid red;\n",
    "             padding:0px 20px;\">3. Adjust datetime format\n",
    "</span>"
   ]
  },
  {
   "cell_type": "code",
   "execution_count": 41,
   "id": "47116622",
   "metadata": {
    "execution": {
     "iopub.execute_input": "2023-10-20T04:19:55.555895Z",
     "iopub.status.busy": "2023-10-20T04:19:55.555462Z",
     "iopub.status.idle": "2023-10-20T04:19:55.577752Z",
     "shell.execute_reply": "2023-10-20T04:19:55.576889Z"
    },
    "papermill": {
     "duration": 0.04133,
     "end_time": "2023-10-20T04:19:55.580098",
     "exception": false,
     "start_time": "2023-10-20T04:19:55.538768",
     "status": "completed"
    },
    "tags": []
   },
   "outputs": [],
   "source": [
    "generation_data['DATE_TIME'] = generation_data['DATE_TIME'].apply(lambda x: pd.to_datetime(x, format='%Y-%m-%d %H:%M'))\n",
    "weather_data['DATE_TIME'] = weather_data['DATE_TIME'].apply(lambda x: pd.to_datetime(x, format='%Y-%m-%d %H:%M:%S'))"
   ]
  },
  {
   "cell_type": "markdown",
   "id": "684c3d44",
   "metadata": {
    "papermill": {
     "duration": 0.015032,
     "end_time": "2023-10-20T04:19:55.610506",
     "exception": false,
     "start_time": "2023-10-20T04:19:55.595474",
     "status": "completed"
    },
    "tags": []
   },
   "source": [
    "<span style=\"background-color:red;\n",
    "             color:white;\n",
    "             font-size:17px;\n",
    "             text-align:center;\n",
    "             border-radius:30px 80px;\n",
    "             font-weight:bold;\n",
    "             border:2px solid red;\n",
    "             padding:0px 20px;\">4. Merging generation data and weather sensor data  \n",
    "</span>"
   ]
  },
  {
   "cell_type": "code",
   "execution_count": 42,
   "id": "7e4a74ae",
   "metadata": {
    "execution": {
     "iopub.execute_input": "2023-10-20T04:19:55.643247Z",
     "iopub.status.busy": "2023-10-20T04:19:55.642393Z",
     "iopub.status.idle": "2023-10-20T04:19:55.700832Z",
     "shell.execute_reply": "2023-10-20T04:19:55.699727Z"
    },
    "papermill": {
     "duration": 0.077645,
     "end_time": "2023-10-20T04:19:55.703340",
     "exception": false,
     "start_time": "2023-10-20T04:19:55.625695",
     "status": "completed"
    },
    "tags": []
   },
   "outputs": [
    {
     "data": {
      "text/html": [
       "<style type=\"text/css\">\n",
       "#T_de516_row0_col2, #T_de516_row0_col3 {\n",
       "  background-color: #bc43ff;\n",
       "  color: #f1f1f1;\n",
       "}\n",
       "#T_de516_row0_col4 {\n",
       "  background-color: #0df2ff;\n",
       "  color: #000000;\n",
       "}\n",
       "#T_de516_row0_col5 {\n",
       "  background-color: #1be4ff;\n",
       "  color: #000000;\n",
       "}\n",
       "#T_de516_row0_col6 {\n",
       "  background-color: #0bf4ff;\n",
       "  color: #000000;\n",
       "}\n",
       "#T_de516_row0_col7 {\n",
       "  background-color: #23dcff;\n",
       "  color: #000000;\n",
       "}\n",
       "#T_de516_row0_col8 {\n",
       "  background-color: #a758ff;\n",
       "  color: #f1f1f1;\n",
       "}\n",
       "#T_de516_row1_col2, #T_de516_row1_col3, #T_de516_row1_col4, #T_de516_row1_col6, #T_de516_row1_col7, #T_de516_row2_col5, #T_de516_row2_col8 {\n",
       "  background-color: #ff00ff;\n",
       "  color: #f1f1f1;\n",
       "}\n",
       "#T_de516_row1_col5, #T_de516_row3_col2, #T_de516_row3_col3, #T_de516_row3_col4, #T_de516_row3_col8, #T_de516_row4_col2, #T_de516_row4_col3, #T_de516_row4_col6, #T_de516_row4_col7, #T_de516_row4_col8 {\n",
       "  background-color: #00ffff;\n",
       "  color: #000000;\n",
       "}\n",
       "#T_de516_row1_col8 {\n",
       "  background-color: #fb04ff;\n",
       "  color: #f1f1f1;\n",
       "}\n",
       "#T_de516_row2_col2, #T_de516_row2_col3 {\n",
       "  background-color: #de21ff;\n",
       "  color: #f1f1f1;\n",
       "}\n",
       "#T_de516_row2_col4 {\n",
       "  background-color: #07f8ff;\n",
       "  color: #000000;\n",
       "}\n",
       "#T_de516_row2_col6 {\n",
       "  background-color: #39c6ff;\n",
       "  color: #000000;\n",
       "}\n",
       "#T_de516_row2_col7 {\n",
       "  background-color: #6897ff;\n",
       "  color: #f1f1f1;\n",
       "}\n",
       "#T_de516_row3_col5 {\n",
       "  background-color: #12edff;\n",
       "  color: #000000;\n",
       "}\n",
       "#T_de516_row3_col6 {\n",
       "  background-color: #1de2ff;\n",
       "  color: #000000;\n",
       "}\n",
       "#T_de516_row3_col7, #T_de516_row4_col5 {\n",
       "  background-color: #10efff;\n",
       "  color: #000000;\n",
       "}\n",
       "#T_de516_row4_col4 {\n",
       "  background-color: #9c63ff;\n",
       "  color: #f1f1f1;\n",
       "}\n",
       "</style>\n",
       "<table id=\"T_de516_\">\n",
       "  <thead>\n",
       "    <tr>\n",
       "      <th class=\"blank level0\" >&nbsp;</th>\n",
       "      <th class=\"col_heading level0 col0\" >DATE_TIME</th>\n",
       "      <th class=\"col_heading level0 col1\" >SOURCE_KEY</th>\n",
       "      <th class=\"col_heading level0 col2\" >DC_POWER</th>\n",
       "      <th class=\"col_heading level0 col3\" >AC_POWER</th>\n",
       "      <th class=\"col_heading level0 col4\" >DAILY_YIELD</th>\n",
       "      <th class=\"col_heading level0 col5\" >TOTAL_YIELD</th>\n",
       "      <th class=\"col_heading level0 col6\" >AMBIENT_TEMPERATURE</th>\n",
       "      <th class=\"col_heading level0 col7\" >MODULE_TEMPERATURE</th>\n",
       "      <th class=\"col_heading level0 col8\" >IRRADIATION</th>\n",
       "    </tr>\n",
       "  </thead>\n",
       "  <tbody>\n",
       "    <tr>\n",
       "      <th id=\"T_de516_level0_row0\" class=\"row_heading level0 row0\" >66435</th>\n",
       "      <td id=\"T_de516_row0_col0\" class=\"data row0 col0\" >2020-06-17 09:30:00</td>\n",
       "      <td id=\"T_de516_row0_col1\" class=\"data row0 col1\" >WcxssY2VbP4hApt</td>\n",
       "      <td id=\"T_de516_row0_col2\" class=\"data row0 col2\" >373.747</td>\n",
       "      <td id=\"T_de516_row0_col3\" class=\"data row0 col3\" >366.793</td>\n",
       "      <td id=\"T_de516_row0_col4\" class=\"data row0 col4\" >476.600</td>\n",
       "      <td id=\"T_de516_row0_col5\" class=\"data row0 col5\" >181908063.600</td>\n",
       "      <td id=\"T_de516_row0_col6\" class=\"data row0 col6\" >24.281</td>\n",
       "      <td id=\"T_de516_row0_col7\" class=\"data row0 col7\" >25.862</td>\n",
       "      <td id=\"T_de516_row0_col8\" class=\"data row0 col8\" >0.221</td>\n",
       "    </tr>\n",
       "    <tr>\n",
       "      <th id=\"T_de516_level0_row1\" class=\"row_heading level0 row1\" >23512</th>\n",
       "      <td id=\"T_de516_row1_col0\" class=\"data row1 col0\" >2020-05-27 16:30:00</td>\n",
       "      <td id=\"T_de516_row1_col1\" class=\"data row1 col1\" >4UPUqMRk7TRMgml</td>\n",
       "      <td id=\"T_de516_row1_col2\" class=\"data row1 col2\" >507.547</td>\n",
       "      <td id=\"T_de516_row1_col3\" class=\"data row1 col3\" >497.580</td>\n",
       "      <td id=\"T_de516_row1_col4\" class=\"data row1 col4\" >9056.200</td>\n",
       "      <td id=\"T_de516_row1_col5\" class=\"data row1 col5\" >2525382.200</td>\n",
       "      <td id=\"T_de516_row1_col6\" class=\"data row1 col6\" >36.576</td>\n",
       "      <td id=\"T_de516_row1_col7\" class=\"data row1 col7\" >44.791</td>\n",
       "      <td id=\"T_de516_row1_col8\" class=\"data row1 col8\" >0.331</td>\n",
       "    </tr>\n",
       "    <tr>\n",
       "      <th id=\"T_de516_level0_row2\" class=\"row_heading level0 row2\" >62059</th>\n",
       "      <td id=\"T_de516_row2_col0\" class=\"data row2 col0\" >2020-06-15 07:45:00</td>\n",
       "      <td id=\"T_de516_row2_col1\" class=\"data row2 col1\" >oZ35aAeoifZaQzV</td>\n",
       "      <td id=\"T_de516_row2_col2\" class=\"data row2 col2\" >441.121</td>\n",
       "      <td id=\"T_de516_row2_col3\" class=\"data row2 col3\" >432.693</td>\n",
       "      <td id=\"T_de516_row2_col4\" class=\"data row2 col4\" >278.643</td>\n",
       "      <td id=\"T_de516_row2_col5\" class=\"data row2 col5\" >1660176370.643</td>\n",
       "      <td id=\"T_de516_row2_col6\" class=\"data row2 col6\" >26.614</td>\n",
       "      <td id=\"T_de516_row2_col7\" class=\"data row2 col7\" >31.780</td>\n",
       "      <td id=\"T_de516_row2_col8\" class=\"data row2 col8\" >0.337</td>\n",
       "    </tr>\n",
       "    <tr>\n",
       "      <th id=\"T_de516_level0_row3\" class=\"row_heading level0 row3\" >20809</th>\n",
       "      <td id=\"T_de516_row3_col0\" class=\"data row3 col0\" >2020-05-26 02:45:00</td>\n",
       "      <td id=\"T_de516_row3_col1\" class=\"data row3 col1\" >rrq4fwE8jgrTyWY</td>\n",
       "      <td id=\"T_de516_row3_col2\" class=\"data row3 col2\" >0.000</td>\n",
       "      <td id=\"T_de516_row3_col3\" class=\"data row3 col3\" >0.000</td>\n",
       "      <td id=\"T_de516_row3_col4\" class=\"data row3 col4\" >0.000</td>\n",
       "      <td id=\"T_de516_row3_col5\" class=\"data row3 col5\" >121022633.000</td>\n",
       "      <td id=\"T_de516_row3_col6\" class=\"data row3 col6\" >25.173</td>\n",
       "      <td id=\"T_de516_row3_col7\" class=\"data row3 col7\" >24.225</td>\n",
       "      <td id=\"T_de516_row3_col8\" class=\"data row3 col8\" >0.000</td>\n",
       "    </tr>\n",
       "    <tr>\n",
       "      <th id=\"T_de516_level0_row4\" class=\"row_heading level0 row4\" >65506</th>\n",
       "      <td id=\"T_de516_row4_col0\" class=\"data row4 col0\" >2020-06-16 23:00:00</td>\n",
       "      <td id=\"T_de516_row4_col1\" class=\"data row4 col1\" >NgDl19wMapZy17u</td>\n",
       "      <td id=\"T_de516_row4_col2\" class=\"data row4 col2\" >0.000</td>\n",
       "      <td id=\"T_de516_row4_col3\" class=\"data row4 col3\" >0.000</td>\n",
       "      <td id=\"T_de516_row4_col4\" class=\"data row4 col4\" >5537.000</td>\n",
       "      <td id=\"T_de516_row4_col5\" class=\"data row4 col5\" >111741726.000</td>\n",
       "      <td id=\"T_de516_row4_col6\" class=\"data row4 col6\" >23.707</td>\n",
       "      <td id=\"T_de516_row4_col7\" class=\"data row4 col7\" >22.795</td>\n",
       "      <td id=\"T_de516_row4_col8\" class=\"data row4 col8\" >0.000</td>\n",
       "    </tr>\n",
       "  </tbody>\n",
       "</table>\n"
      ],
      "text/plain": [
       "<pandas.io.formats.style.Styler at 0x1904999db48>"
      ]
     },
     "execution_count": 42,
     "metadata": {},
     "output_type": "execute_result"
    }
   ],
   "source": [
    "df_solar = pd.merge(generation_data.drop(columns = ['PLANT_ID']), weather_data.drop(columns = ['PLANT_ID', 'SOURCE_KEY']), on='DATE_TIME')\n",
    "df_solar.sample(5).style.background_gradient(cmap='cool')"
   ]
  },
  {
   "cell_type": "markdown",
   "id": "48e49528",
   "metadata": {
    "papermill": {
     "duration": 0.015219,
     "end_time": "2023-10-20T04:19:55.734545",
     "exception": false,
     "start_time": "2023-10-20T04:19:55.719326",
     "status": "completed"
    },
    "tags": []
   },
   "source": [
    "<span style=\"background-color:red;\n",
    "             color:white;\n",
    "             font-size:17px;\n",
    "             text-align:center;\n",
    "             border-radius:30px 80px;\n",
    "             font-weight:bold;\n",
    "             border:2px solid red;\n",
    "             padding:0px 20px;\">5. Adding separate time and date columns  \n",
    "</span>"
   ]
  },
  {
   "cell_type": "code",
   "execution_count": 43,
   "id": "ada2bee8",
   "metadata": {
    "execution": {
     "iopub.execute_input": "2023-10-20T04:19:55.768019Z",
     "iopub.status.busy": "2023-10-20T04:19:55.767302Z",
     "iopub.status.idle": "2023-10-20T04:19:56.155960Z",
     "shell.execute_reply": "2023-10-20T04:19:56.154764Z"
    },
    "papermill": {
     "duration": 0.408396,
     "end_time": "2023-10-20T04:19:56.158412",
     "exception": false,
     "start_time": "2023-10-20T04:19:55.750016",
     "status": "completed"
    },
    "tags": []
   },
   "outputs": [
    {
     "data": {
      "text/html": [
       "<div>\n",
       "<style scoped>\n",
       "    .dataframe tbody tr th:only-of-type {\n",
       "        vertical-align: middle;\n",
       "    }\n",
       "\n",
       "    .dataframe tbody tr th {\n",
       "        vertical-align: top;\n",
       "    }\n",
       "\n",
       "    .dataframe thead th {\n",
       "        text-align: right;\n",
       "    }\n",
       "</style>\n",
       "<table border=\"1\" class=\"dataframe\">\n",
       "  <thead>\n",
       "    <tr style=\"text-align: right;\">\n",
       "      <th></th>\n",
       "      <th>DATE_TIME</th>\n",
       "      <th>SOURCE_KEY</th>\n",
       "      <th>DC_POWER</th>\n",
       "      <th>AC_POWER</th>\n",
       "      <th>DAILY_YIELD</th>\n",
       "      <th>TOTAL_YIELD</th>\n",
       "      <th>AMBIENT_TEMPERATURE</th>\n",
       "      <th>MODULE_TEMPERATURE</th>\n",
       "      <th>IRRADIATION</th>\n",
       "      <th>DATE</th>\n",
       "      <th>TIME</th>\n",
       "      <th>DAY</th>\n",
       "      <th>MONTH</th>\n",
       "      <th>WEEK</th>\n",
       "      <th>HOURS</th>\n",
       "      <th>MINUTES</th>\n",
       "      <th>TOTAL MINUTES PASS</th>\n",
       "      <th>DATE_STRING</th>\n",
       "    </tr>\n",
       "  </thead>\n",
       "  <tbody>\n",
       "    <tr>\n",
       "      <th>0</th>\n",
       "      <td>2020-05-15</td>\n",
       "      <td>4UPUqMRk7TRMgml</td>\n",
       "      <td>0.0</td>\n",
       "      <td>0.0</td>\n",
       "      <td>9425.0</td>\n",
       "      <td>2.429e+06</td>\n",
       "      <td>27.005</td>\n",
       "      <td>25.061</td>\n",
       "      <td>0.0</td>\n",
       "      <td>2020-05-15</td>\n",
       "      <td>00:00:00</td>\n",
       "      <td>15</td>\n",
       "      <td>5</td>\n",
       "      <td>20</td>\n",
       "      <td>0</td>\n",
       "      <td>0</td>\n",
       "      <td>0</td>\n",
       "      <td>2020-05-15</td>\n",
       "    </tr>\n",
       "    <tr>\n",
       "      <th>1</th>\n",
       "      <td>2020-05-15</td>\n",
       "      <td>81aHJ1q11NBPMrL</td>\n",
       "      <td>0.0</td>\n",
       "      <td>0.0</td>\n",
       "      <td>0.0</td>\n",
       "      <td>1.215e+09</td>\n",
       "      <td>27.005</td>\n",
       "      <td>25.061</td>\n",
       "      <td>0.0</td>\n",
       "      <td>2020-05-15</td>\n",
       "      <td>00:00:00</td>\n",
       "      <td>15</td>\n",
       "      <td>5</td>\n",
       "      <td>20</td>\n",
       "      <td>0</td>\n",
       "      <td>0</td>\n",
       "      <td>0</td>\n",
       "      <td>2020-05-15</td>\n",
       "    </tr>\n",
       "  </tbody>\n",
       "</table>\n",
       "</div>"
      ],
      "text/plain": [
       "   DATE_TIME       SOURCE_KEY  DC_POWER  AC_POWER  DAILY_YIELD  TOTAL_YIELD  \\\n",
       "0 2020-05-15  4UPUqMRk7TRMgml       0.0       0.0       9425.0    2.429e+06   \n",
       "1 2020-05-15  81aHJ1q11NBPMrL       0.0       0.0          0.0    1.215e+09   \n",
       "\n",
       "   AMBIENT_TEMPERATURE  MODULE_TEMPERATURE  IRRADIATION        DATE      TIME  \\\n",
       "0               27.005              25.061          0.0  2020-05-15  00:00:00   \n",
       "1               27.005              25.061          0.0  2020-05-15  00:00:00   \n",
       "\n",
       "   DAY  MONTH  WEEK HOURS  MINUTES  TOTAL MINUTES PASS DATE_STRING  \n",
       "0   15      5    20     0        0                   0  2020-05-15  \n",
       "1   15      5    20     0        0                   0  2020-05-15  "
      ]
     },
     "execution_count": 43,
     "metadata": {},
     "output_type": "execute_result"
    }
   ],
   "source": [
    "# adding separate time and date columns\n",
    "df_solar[\"DATE\"] = pd.to_datetime(df_solar[\"DATE_TIME\"]).dt.date\n",
    "df_solar[\"TIME\"] = pd.to_datetime(df_solar[\"DATE_TIME\"]).dt.time\n",
    "df_solar['DAY'] = pd.to_datetime(df_solar['DATE_TIME']).dt.day\n",
    "df_solar['MONTH'] = pd.to_datetime(df_solar['DATE_TIME']).dt.month\n",
    "df_solar['WEEK'] = pd.to_datetime(df_solar['DATE_TIME']).dt.week\n",
    "\n",
    "# Adding hours and minutes for ML models\n",
    "time_parsed = pd.to_datetime(df_solar['TIME'], format='%H:%M:%S')\n",
    "df_solar['HOURS'] = time_parsed.dt.hour\n",
    "df_solar['MINUTES'] = time_parsed.dt.minute\n",
    "df_solar['TOTAL MINUTES PASS'] = df_solar['MINUTES'] + df_solar['HOURS'] * 60\n",
    "\n",
    "# Adding date as a string column\n",
    "df_solar[\"DATE_STRING\"] = df_solar[\"DATE\"].astype(str)\n",
    "df_solar[\"HOURS\"] = df_solar[\"HOURS\"].astype(str)\n",
    "df_solar[\"TIME\"] = df_solar[\"TIME\"].astype(str)\n",
    "\n",
    "df_solar.head(2)\n"
   ]
  },
  {
   "cell_type": "code",
   "execution_count": 44,
   "id": "8b94885c",
   "metadata": {
    "execution": {
     "iopub.execute_input": "2023-10-20T04:19:56.192365Z",
     "iopub.status.busy": "2023-10-20T04:19:56.191579Z",
     "iopub.status.idle": "2023-10-20T04:19:56.229491Z",
     "shell.execute_reply": "2023-10-20T04:19:56.228144Z"
    },
    "papermill": {
     "duration": 0.057879,
     "end_time": "2023-10-20T04:19:56.232177",
     "exception": false,
     "start_time": "2023-10-20T04:19:56.174298",
     "status": "completed"
    },
    "tags": []
   },
   "outputs": [
    {
     "name": "stdout",
     "output_type": "stream",
     "text": [
      "<class 'pandas.core.frame.DataFrame'>\n",
      "Int64Index: 67698 entries, 0 to 67697\n",
      "Data columns (total 18 columns):\n",
      " #   Column               Non-Null Count  Dtype         \n",
      "---  ------               --------------  -----         \n",
      " 0   DATE_TIME            67698 non-null  datetime64[ns]\n",
      " 1   SOURCE_KEY           67698 non-null  object        \n",
      " 2   DC_POWER             67698 non-null  float64       \n",
      " 3   AC_POWER             67698 non-null  float64       \n",
      " 4   DAILY_YIELD          67698 non-null  float64       \n",
      " 5   TOTAL_YIELD          67698 non-null  float64       \n",
      " 6   AMBIENT_TEMPERATURE  67698 non-null  float64       \n",
      " 7   MODULE_TEMPERATURE   67698 non-null  float64       \n",
      " 8   IRRADIATION          67698 non-null  float64       \n",
      " 9   DATE                 67698 non-null  object        \n",
      " 10  TIME                 67698 non-null  object        \n",
      " 11  DAY                  67698 non-null  int64         \n",
      " 12  MONTH                67698 non-null  int64         \n",
      " 13  WEEK                 67698 non-null  int64         \n",
      " 14  HOURS                67698 non-null  object        \n",
      " 15  MINUTES              67698 non-null  int64         \n",
      " 16  TOTAL MINUTES PASS   67698 non-null  int64         \n",
      " 17  DATE_STRING          67698 non-null  object        \n",
      "dtypes: datetime64[ns](1), float64(7), int64(5), object(5)\n",
      "memory usage: 9.8+ MB\n"
     ]
    }
   ],
   "source": [
    "df_solar.info()"
   ]
  },
  {
   "cell_type": "markdown",
   "id": "39550444",
   "metadata": {
    "papermill": {
     "duration": 0.01573,
     "end_time": "2023-10-20T04:19:56.331958",
     "exception": false,
     "start_time": "2023-10-20T04:19:56.316228",
     "status": "completed"
    },
    "tags": []
   },
   "source": [
    "<code style=\"background:yellow;color:red\">There is no Missing Values in the dataset </code>"
   ]
  },
  {
   "cell_type": "markdown",
   "id": "a617378c",
   "metadata": {
    "papermill": {
     "duration": 0.016562,
     "end_time": "2023-10-20T04:19:56.511059",
     "exception": false,
     "start_time": "2023-10-20T04:19:56.494497",
     "status": "completed"
    },
    "tags": []
   },
   "source": [
    "<span style=\"background-color:red;\n",
    "             color:white;\n",
    "             font-size:17px;\n",
    "             text-align:center;\n",
    "             border-radius:30px 80px;\n",
    "             font-weight:bold;\n",
    "             border:2px solid red;\n",
    "             padding:0px 20px;\">6. Converting 'SOURCE_KEY' from categorical form to numerical form\n",
    "</span>"
   ]
  },
  {
   "cell_type": "code",
   "execution_count": 47,
   "metadata": {},
   "outputs": [
    {
     "data": {
      "text/html": [
       "<div>\n",
       "<style scoped>\n",
       "    .dataframe tbody tr th:only-of-type {\n",
       "        vertical-align: middle;\n",
       "    }\n",
       "\n",
       "    .dataframe tbody tr th {\n",
       "        vertical-align: top;\n",
       "    }\n",
       "\n",
       "    .dataframe thead th {\n",
       "        text-align: right;\n",
       "    }\n",
       "</style>\n",
       "<table border=\"1\" class=\"dataframe\">\n",
       "  <thead>\n",
       "    <tr style=\"text-align: right;\">\n",
       "      <th></th>\n",
       "      <th>DATE_TIME</th>\n",
       "      <th>SOURCE_KEY</th>\n",
       "      <th>DC_POWER</th>\n",
       "      <th>AC_POWER</th>\n",
       "      <th>DAILY_YIELD</th>\n",
       "      <th>TOTAL_YIELD</th>\n",
       "      <th>AMBIENT_TEMPERATURE</th>\n",
       "      <th>MODULE_TEMPERATURE</th>\n",
       "      <th>IRRADIATION</th>\n",
       "      <th>DATE</th>\n",
       "      <th>TIME</th>\n",
       "      <th>DAY</th>\n",
       "      <th>MONTH</th>\n",
       "      <th>WEEK</th>\n",
       "      <th>HOURS</th>\n",
       "      <th>MINUTES</th>\n",
       "      <th>TOTAL MINUTES PASS</th>\n",
       "      <th>DATE_STRING</th>\n",
       "      <th>SOURCE_KEY_NUMBER</th>\n",
       "    </tr>\n",
       "  </thead>\n",
       "  <tbody>\n",
       "    <tr>\n",
       "      <th>0</th>\n",
       "      <td>2020-05-15</td>\n",
       "      <td>4UPUqMRk7TRMgml</td>\n",
       "      <td>0.0</td>\n",
       "      <td>0.0</td>\n",
       "      <td>9425.000</td>\n",
       "      <td>2.429e+06</td>\n",
       "      <td>27.005</td>\n",
       "      <td>25.061</td>\n",
       "      <td>0.0</td>\n",
       "      <td>2020-05-15</td>\n",
       "      <td>00:00:00</td>\n",
       "      <td>15</td>\n",
       "      <td>5</td>\n",
       "      <td>20</td>\n",
       "      <td>0</td>\n",
       "      <td>0</td>\n",
       "      <td>0</td>\n",
       "      <td>2020-05-15</td>\n",
       "      <td>0</td>\n",
       "    </tr>\n",
       "    <tr>\n",
       "      <th>1</th>\n",
       "      <td>2020-05-15</td>\n",
       "      <td>81aHJ1q11NBPMrL</td>\n",
       "      <td>0.0</td>\n",
       "      <td>0.0</td>\n",
       "      <td>0.000</td>\n",
       "      <td>1.215e+09</td>\n",
       "      <td>27.005</td>\n",
       "      <td>25.061</td>\n",
       "      <td>0.0</td>\n",
       "      <td>2020-05-15</td>\n",
       "      <td>00:00:00</td>\n",
       "      <td>15</td>\n",
       "      <td>5</td>\n",
       "      <td>20</td>\n",
       "      <td>0</td>\n",
       "      <td>0</td>\n",
       "      <td>0</td>\n",
       "      <td>2020-05-15</td>\n",
       "      <td>1</td>\n",
       "    </tr>\n",
       "    <tr>\n",
       "      <th>2</th>\n",
       "      <td>2020-05-15</td>\n",
       "      <td>9kRcWv60rDACzjR</td>\n",
       "      <td>0.0</td>\n",
       "      <td>0.0</td>\n",
       "      <td>3075.333</td>\n",
       "      <td>2.248e+09</td>\n",
       "      <td>27.005</td>\n",
       "      <td>25.061</td>\n",
       "      <td>0.0</td>\n",
       "      <td>2020-05-15</td>\n",
       "      <td>00:00:00</td>\n",
       "      <td>15</td>\n",
       "      <td>5</td>\n",
       "      <td>20</td>\n",
       "      <td>0</td>\n",
       "      <td>0</td>\n",
       "      <td>0</td>\n",
       "      <td>2020-05-15</td>\n",
       "      <td>2</td>\n",
       "    </tr>\n",
       "    <tr>\n",
       "      <th>3</th>\n",
       "      <td>2020-05-15</td>\n",
       "      <td>Et9kgGMDl729KT4</td>\n",
       "      <td>0.0</td>\n",
       "      <td>0.0</td>\n",
       "      <td>269.933</td>\n",
       "      <td>1.704e+06</td>\n",
       "      <td>27.005</td>\n",
       "      <td>25.061</td>\n",
       "      <td>0.0</td>\n",
       "      <td>2020-05-15</td>\n",
       "      <td>00:00:00</td>\n",
       "      <td>15</td>\n",
       "      <td>5</td>\n",
       "      <td>20</td>\n",
       "      <td>0</td>\n",
       "      <td>0</td>\n",
       "      <td>0</td>\n",
       "      <td>2020-05-15</td>\n",
       "      <td>3</td>\n",
       "    </tr>\n",
       "    <tr>\n",
       "      <th>4</th>\n",
       "      <td>2020-05-15</td>\n",
       "      <td>IQ2d7wF4YD8zU1Q</td>\n",
       "      <td>0.0</td>\n",
       "      <td>0.0</td>\n",
       "      <td>3177.000</td>\n",
       "      <td>1.994e+07</td>\n",
       "      <td>27.005</td>\n",
       "      <td>25.061</td>\n",
       "      <td>0.0</td>\n",
       "      <td>2020-05-15</td>\n",
       "      <td>00:00:00</td>\n",
       "      <td>15</td>\n",
       "      <td>5</td>\n",
       "      <td>20</td>\n",
       "      <td>0</td>\n",
       "      <td>0</td>\n",
       "      <td>0</td>\n",
       "      <td>2020-05-15</td>\n",
       "      <td>4</td>\n",
       "    </tr>\n",
       "  </tbody>\n",
       "</table>\n",
       "</div>"
      ],
      "text/plain": [
       "   DATE_TIME       SOURCE_KEY  DC_POWER  AC_POWER  DAILY_YIELD  TOTAL_YIELD  \\\n",
       "0 2020-05-15  4UPUqMRk7TRMgml       0.0       0.0     9425.000    2.429e+06   \n",
       "1 2020-05-15  81aHJ1q11NBPMrL       0.0       0.0        0.000    1.215e+09   \n",
       "2 2020-05-15  9kRcWv60rDACzjR       0.0       0.0     3075.333    2.248e+09   \n",
       "3 2020-05-15  Et9kgGMDl729KT4       0.0       0.0      269.933    1.704e+06   \n",
       "4 2020-05-15  IQ2d7wF4YD8zU1Q       0.0       0.0     3177.000    1.994e+07   \n",
       "\n",
       "   AMBIENT_TEMPERATURE  MODULE_TEMPERATURE  IRRADIATION        DATE      TIME  \\\n",
       "0               27.005              25.061          0.0  2020-05-15  00:00:00   \n",
       "1               27.005              25.061          0.0  2020-05-15  00:00:00   \n",
       "2               27.005              25.061          0.0  2020-05-15  00:00:00   \n",
       "3               27.005              25.061          0.0  2020-05-15  00:00:00   \n",
       "4               27.005              25.061          0.0  2020-05-15  00:00:00   \n",
       "\n",
       "   DAY  MONTH  WEEK HOURS  MINUTES  TOTAL MINUTES PASS DATE_STRING  \\\n",
       "0   15      5    20     0        0                   0  2020-05-15   \n",
       "1   15      5    20     0        0                   0  2020-05-15   \n",
       "2   15      5    20     0        0                   0  2020-05-15   \n",
       "3   15      5    20     0        0                   0  2020-05-15   \n",
       "4   15      5    20     0        0                   0  2020-05-15   \n",
       "\n",
       "   SOURCE_KEY_NUMBER  \n",
       "0                  0  \n",
       "1                  1  \n",
       "2                  2  \n",
       "3                  3  \n",
       "4                  4  "
      ]
     },
     "execution_count": 47,
     "metadata": {},
     "output_type": "execute_result"
    }
   ],
   "source": [
    "from sklearn.preprocessing import LabelEncoder\n",
    "\n",
    "encoder = LabelEncoder()\n",
    "df_solar['SOURCE_KEY_NUMBER'] = encoder.fit_transform(df_solar['SOURCE_KEY'])\n",
    "df_solar.head()\n"
   ]
  },
  {
   "cell_type": "markdown",
   "id": "e70aa4f1",
   "metadata": {
    "papermill": {
     "duration": 0.016363,
     "end_time": "2023-10-20T04:19:56.776512",
     "exception": false,
     "start_time": "2023-10-20T04:19:56.760149",
     "status": "completed"
    },
    "tags": []
   },
   "source": [
    "<h1 style=\"text-align: justify; font-family: 'Lucida Calligraphy'; font-size:35px; color:#e90045\">Data Visualization: </h1>"
   ]
  },
  {
   "cell_type": "markdown",
   "id": "9e2d7e33",
   "metadata": {
    "papermill": {
     "duration": 0.017434,
     "end_time": "2023-10-20T04:19:57.721516",
     "exception": false,
     "start_time": "2023-10-20T04:19:57.704082",
     "status": "completed"
    },
    "tags": []
   },
   "source": [
    "<span style=\"background-color:red;\n",
    "             color:white;\n",
    "             font-size:17px;\n",
    "             text-align:center;\n",
    "             border-radius:30px 80px;\n",
    "             font-weight:bold;\n",
    "             border:2px solid red;\n",
    "             padding:0px 20px;\">7. Multiple Plotting of DC_POWER generation on per day basis.\n",
    "</span>"
   ]
  },
  {
   "cell_type": "markdown",
   "id": "64b90729",
   "metadata": {
    "papermill": {
     "duration": 0.025279,
     "end_time": "2023-10-20T04:20:01.487509",
     "exception": false,
     "start_time": "2023-10-20T04:20:01.462230",
     "status": "completed"
    },
    "tags": []
   },
   "source": [
    "<span style=\"background-color:maroon;\n",
    "             color:white;\n",
    "             font-size:16px;\n",
    "             text-align:center;\n",
    "             border-radius:30px 30px;\n",
    "             font-weight:bold;\n",
    "             border:2px solid red;\n",
    "             padding:5px\">Abnormalities in DC_POWER Generation\n",
    "</span>"
   ]
  },
  {
   "cell_type": "code",
   "execution_count": 48,
   "metadata": {},
   "outputs": [
    {
     "data": {
      "image/png": "[encoded data removed]",
      "text/plain": [
       "<Figure size 1700x500 with 1 Axes>"
      ]
     },
     "metadata": {},
     "output_type": "display_data"
    }
   ],
   "source": [
    "daily_dc = df_solar.groupby('DATE')['DC_POWER'].sum()\n",
    "\n",
    "ax = daily_dc.sort_values(ascending=False).plot.bar(figsize=(17, 5), legend=True, color='red')\n",
    "plt.title('Daily DC Power')\n",
    "plt.show()"
   ]
  },
  {
   "cell_type": "markdown",
   "id": "b5c77db0",
   "metadata": {
    "papermill": {
     "duration": 0.024968,
     "end_time": "2023-10-20T04:20:02.097445",
     "exception": false,
     "start_time": "2023-10-20T04:20:02.072477",
     "status": "completed"
    },
    "tags": []
   },
   "source": [
    "<div style=\"color:white;\n",
    "       display:fill;\n",
    "       border-radius:5px;\n",
    "       background-color:#AC0000;\n",
    "       font-size:110%;\n",
    "       font-family:Nexa;\n",
    "       letter-spacing:0.5px\">\n",
    "    <p style=\"padding: 10px;\n",
    "          color:white;\">\n",
    "        NOTE: This Large variation in the DC_POWER generation is due to the fault in the system or due to weather change, which needs to study further. But from this bar plot we find the day on which there is highest DC_POWER is generated and the day with the lowest DC_POWER generated.\n",
    "    </p>\n",
    "</div>"
   ]
  },
  {
   "cell_type": "markdown",
   "id": "7e9d2de3",
   "metadata": {
    "papermill": {
     "duration": 0.025912,
     "end_time": "2023-10-20T04:20:02.149182",
     "exception": false,
     "start_time": "2023-10-20T04:20:02.123270",
     "status": "completed"
    },
    "tags": []
   },
   "source": [
    "<span style=\"background-color:red;\n",
    "             color:white;\n",
    "             font-size:17px;\n",
    "             text-align:center;\n",
    "             border-radius:30px 80px;\n",
    "             font-weight:bold;\n",
    "             border:2px solid red;\n",
    "             padding:0px 20px;\">8. Multiple Plotting of IRRADIATION generation on per day basis.\n",
    "</span>"
   ]
  },
  {
   "cell_type": "code",
   "execution_count": 49,
   "id": "67ba0270",
   "metadata": {
    "execution": {
     "iopub.execute_input": "2023-10-20T04:20:05.875545Z",
     "iopub.status.busy": "2023-10-20T04:20:05.874702Z",
     "iopub.status.idle": "2023-10-20T04:20:06.277815Z",
     "shell.execute_reply": "2023-10-20T04:20:06.276232Z"
    },
    "papermill": {
     "duration": 0.440043,
     "end_time": "2023-10-20T04:20:06.280298",
     "exception": false,
     "start_time": "2023-10-20T04:20:05.840255",
     "status": "completed"
    },
    "tags": []
   },
   "outputs": [
    {
     "data": {
      "image/png": "[encoded data removed]",
      "text/plain": [
       "<Figure size 1700x500 with 1 Axes>"
      ]
     },
     "metadata": {},
     "output_type": "display_data"
    }
   ],
   "source": [
    "daily_irradiation = df_solar.groupby('DATE')['IRRADIATION'].sum()\n",
    "\n",
    "daily_irradiation.sort_values(ascending=False).plot.bar(figsize=(17, 5), legend=True, color='blue')\n",
    "plt.title('IRRADIATION')\n",
    "plt.show()\n"
   ]
  },
  {
   "cell_type": "code",
   "execution_count": 50,
   "id": "40daabbf",
   "metadata": {
    "execution": {
     "iopub.execute_input": "2023-10-20T04:20:09.971530Z",
     "iopub.status.busy": "2023-10-20T04:20:09.970754Z",
     "iopub.status.idle": "2023-10-20T04:20:10.371487Z",
     "shell.execute_reply": "2023-10-20T04:20:10.370351Z"
    },
    "papermill": {
     "duration": 0.455036,
     "end_time": "2023-10-20T04:20:10.373814",
     "exception": false,
     "start_time": "2023-10-20T04:20:09.918778",
     "status": "completed"
    },
    "tags": []
   },
   "outputs": [
    {
     "data": {
      "image/png": "[encoded data removed]",
      "text/plain": [
       "<Figure size 1700x500 with 1 Axes>"
      ]
     },
     "metadata": {},
     "output_type": "display_data"
    }
   ],
   "source": [
    "daily_ambient_temp = df_solar.groupby('DATE')['AMBIENT_TEMPERATURE'].sum()\n",
    "\n",
    "daily_ambient_temp.sort_values(ascending=False).plot.bar(figsize=(17, 5), legend=True, color='darkgreen')\n",
    "plt.title('AMBIENT_TEMPERATURE')\n",
    "plt.show()"
   ]
  },
  {
   "cell_type": "markdown",
   "id": "089ac30a",
   "metadata": {
    "papermill": {
     "duration": 0.040982,
     "end_time": "2023-10-20T04:20:10.619840",
     "exception": false,
     "start_time": "2023-10-20T04:20:10.578858",
     "status": "completed"
    },
    "tags": []
   },
   "source": [
    "<span style=\"background-color:red;\n",
    "             color:white;\n",
    "             font-size:17px;\n",
    "             text-align:center;\n",
    "             border-radius:30px 80px;\n",
    "             font-weight:bold;\n",
    "             border:2px solid red;\n",
    "             padding:0px 20px;\">9. Highest average DC_POWER is generated on \"2020-05-15\"  \n",
    "</span>"
   ]
  },
  {
   "cell_type": "code",
   "execution_count": 51,
   "id": "c0457282",
   "metadata": {
    "execution": {
     "iopub.execute_input": "2023-10-20T04:20:10.704875Z",
     "iopub.status.busy": "2023-10-20T04:20:10.704082Z",
     "iopub.status.idle": "2023-10-20T04:20:18.818022Z",
     "shell.execute_reply": "2023-10-20T04:20:18.816647Z"
    },
    "papermill": {
     "duration": 8.159052,
     "end_time": "2023-10-20T04:20:18.821008",
     "exception": false,
     "start_time": "2023-10-20T04:20:10.661956",
     "status": "completed"
    },
    "tags": []
   },
   "outputs": [
    {
     "data": {
      "image/png": "[encoded data removed]",
      "text/plain": [
       "<Figure size 1600x1600 with 3 Axes>"
      ]
     },
     "metadata": {},
     "output_type": "display_data"
    }
   ],
   "source": [
    "plt.figure(figsize=(16, 16))\n",
    "\n",
    "date = [\"2020-05-15\"]\n",
    "\n",
    "plt.subplot(411)\n",
    "sns.lineplot(df_solar[df_solar[\"DATE_STRING\"].isin(date)].DATE_TIME, df_solar[df_solar[\"DATE_STRING\"].isin(date)].DC_POWER, label=\"DC_Power_Best\", color='green')\n",
    "plt.title(\"DC Power Generation: {}\".format(date[0]))\n",
    "\n",
    "plt.subplot(412)\n",
    "sns.lineplot(df_solar[df_solar[\"DATE_STRING\"].isin(date)].DATE_TIME, df_solar[df_solar[\"DATE_STRING\"].isin(date)].IRRADIATION, label=\"Irradiation_Best\", color='green')\n",
    "plt.title(\"Irradiation: {}\".format(date[0]))\n",
    "\n",
    "plt.subplot(413)\n",
    "sns.lineplot(df_solar[df_solar[\"DATE_STRING\"].isin(date)].DATE_TIME, df_solar[df_solar[\"DATE_STRING\"].isin(date)].AMBIENT_TEMPERATURE, label=\"Ambient_Temperature_Best\", color='green')\n",
    "sns.lineplot(df_solar[df_solar[\"DATE_STRING\"].isin(date)].DATE_TIME, df_solar[df_solar[\"DATE_STRING\"].isin(date)].MODULE_TEMPERATURE, label=\"Module_Temperature_Best\", color='blue')\n",
    "plt.title(\"Module Temperature & Ambient Temperature: {}\".format(date[0]))\n",
    "\n",
    "plt.tight_layout()\n",
    "plt.show()"
   ]
  },
  {
   "cell_type": "markdown",
   "id": "2d3dce21",
   "metadata": {
    "papermill": {
     "duration": 0.046392,
     "end_time": "2023-10-20T04:20:27.432801",
     "exception": false,
     "start_time": "2023-10-20T04:20:27.386409",
     "status": "completed"
    },
    "tags": []
   },
   "source": [
    "<div style=\"color:white;\n",
    "       display:fill;\n",
    "       border-radius:5px;\n",
    "       background-color:#AC0000;\n",
    "       font-size:110%;\n",
    "       font-family:Nexa;\n",
    "       letter-spacing:0.5px\">\n",
    "    <p style=\"padding: 10px;\n",
    "          color:white;\">\n",
    "        NOTE: There are very large fluctuations in both DC_POWER graph and IRRADIATION graph\n",
    "    </p>\n",
    "</div>"
   ]
  },
  {
   "cell_type": "markdown",
   "id": "f25c1cfb",
   "metadata": {
    "papermill": {
     "duration": 0.046547,
     "end_time": "2023-10-20T04:20:27.526242",
     "exception": false,
     "start_time": "2023-10-20T04:20:27.479695",
     "status": "completed"
    },
    "tags": []
   },
   "source": [
    "**Possible Reasons for these large fluctuation in the DC_POWER, IRRADIATION, Ambient temperature, Module temperature:**\n",
    "Around noon, there is a significant drop in DC_POWER generation, decreasing from 700 to nearly 20 kWatt. Concurrently, IRRADIATION experiences a nearly 50% decline, decreasing from 0.6 to 0.3. Both Ambient temperature and Module temperature also undergo a sharp decrease, with Module temperature falling from 45°C to 35°C, and Ambient temperature also seeing a reduction."
   ]
  },
  {
   "cell_type": "markdown",
   "id": "0f71fe58",
   "metadata": {
    "papermill": {
     "duration": 0.046877,
     "end_time": "2023-10-20T04:20:27.621922",
     "exception": false,
     "start_time": "2023-10-20T04:20:27.575045",
     "status": "completed"
    },
    "tags": []
   },
   "source": [
    "<code style=\"background:yellow;color:red\">The possible reason for this reduction is due to may be heavy rain and heavily clouded sky and bad weather. There is almost very less possibility of any fault in the system </code>"
   ]
  },
  {
   "cell_type": "markdown",
   "id": "2eaef8de",
   "metadata": {
    "papermill": {
     "duration": 0.065389,
     "end_time": "2023-10-20T04:20:40.472582",
     "exception": false,
     "start_time": "2023-10-20T04:20:40.407193",
     "status": "completed"
    },
    "tags": []
   },
   "source": [
    "<h1 style=\"text-align: justify; font-family: 'Lucida Calligraphy'; font-size:30px; color:#e90045\">Solar Power Prediction</h1>"
   ]
  },
  {
   "cell_type": "code",
   "execution_count": 52,
   "id": "e90a305b",
   "metadata": {
    "execution": {
     "iopub.execute_input": "2023-10-20T04:20:40.603734Z",
     "iopub.status.busy": "2023-10-20T04:20:40.602978Z",
     "iopub.status.idle": "2023-10-20T04:20:40.614213Z",
     "shell.execute_reply": "2023-10-20T04:20:40.613146Z"
    },
    "papermill": {
     "duration": 0.079102,
     "end_time": "2023-10-20T04:20:40.616752",
     "exception": false,
     "start_time": "2023-10-20T04:20:40.537650",
     "status": "completed"
    },
    "tags": []
   },
   "outputs": [],
   "source": [
    "df2 = df_solar.copy()\n",
    "## X is everything\n",
    "X = df2[['DAILY_YIELD','TOTAL_YIELD','AMBIENT_TEMPERATURE','MODULE_TEMPERATURE','IRRADIATION','DC_POWER']]\n",
    "#Y is there AC_POWER\n",
    "y = df2['AC_POWER']"
   ]
  },
  {
   "cell_type": "code",
   "execution_count": 53,
   "id": "fdbca462",
   "metadata": {
    "execution": {
     "iopub.execute_input": "2023-10-20T04:20:40.746162Z",
     "iopub.status.busy": "2023-10-20T04:20:40.745291Z",
     "iopub.status.idle": "2023-10-20T04:20:40.758810Z",
     "shell.execute_reply": "2023-10-20T04:20:40.757498Z"
    },
    "papermill": {
     "duration": 0.080955,
     "end_time": "2023-10-20T04:20:40.761339",
     "exception": false,
     "start_time": "2023-10-20T04:20:40.680384",
     "status": "completed"
    },
    "tags": []
   },
   "outputs": [
    {
     "data": {
      "text/html": [
       "<div>\n",
       "<style scoped>\n",
       "    .dataframe tbody tr th:only-of-type {\n",
       "        vertical-align: middle;\n",
       "    }\n",
       "\n",
       "    .dataframe tbody tr th {\n",
       "        vertical-align: top;\n",
       "    }\n",
       "\n",
       "    .dataframe thead th {\n",
       "        text-align: right;\n",
       "    }\n",
       "</style>\n",
       "<table border=\"1\" class=\"dataframe\">\n",
       "  <thead>\n",
       "    <tr style=\"text-align: right;\">\n",
       "      <th></th>\n",
       "      <th>DAILY_YIELD</th>\n",
       "      <th>TOTAL_YIELD</th>\n",
       "      <th>AMBIENT_TEMPERATURE</th>\n",
       "      <th>MODULE_TEMPERATURE</th>\n",
       "      <th>IRRADIATION</th>\n",
       "      <th>DC_POWER</th>\n",
       "    </tr>\n",
       "  </thead>\n",
       "  <tbody>\n",
       "    <tr>\n",
       "      <th>0</th>\n",
       "      <td>9425.000</td>\n",
       "      <td>2.429e+06</td>\n",
       "      <td>27.005</td>\n",
       "      <td>25.061</td>\n",
       "      <td>0.0</td>\n",
       "      <td>0.0</td>\n",
       "    </tr>\n",
       "    <tr>\n",
       "      <th>1</th>\n",
       "      <td>0.000</td>\n",
       "      <td>1.215e+09</td>\n",
       "      <td>27.005</td>\n",
       "      <td>25.061</td>\n",
       "      <td>0.0</td>\n",
       "      <td>0.0</td>\n",
       "    </tr>\n",
       "    <tr>\n",
       "      <th>2</th>\n",
       "      <td>3075.333</td>\n",
       "      <td>2.248e+09</td>\n",
       "      <td>27.005</td>\n",
       "      <td>25.061</td>\n",
       "      <td>0.0</td>\n",
       "      <td>0.0</td>\n",
       "    </tr>\n",
       "    <tr>\n",
       "      <th>3</th>\n",
       "      <td>269.933</td>\n",
       "      <td>1.704e+06</td>\n",
       "      <td>27.005</td>\n",
       "      <td>25.061</td>\n",
       "      <td>0.0</td>\n",
       "      <td>0.0</td>\n",
       "    </tr>\n",
       "    <tr>\n",
       "      <th>4</th>\n",
       "      <td>3177.000</td>\n",
       "      <td>1.994e+07</td>\n",
       "      <td>27.005</td>\n",
       "      <td>25.061</td>\n",
       "      <td>0.0</td>\n",
       "      <td>0.0</td>\n",
       "    </tr>\n",
       "  </tbody>\n",
       "</table>\n",
       "</div>"
      ],
      "text/plain": [
       "   DAILY_YIELD  TOTAL_YIELD  AMBIENT_TEMPERATURE  MODULE_TEMPERATURE  \\\n",
       "0     9425.000    2.429e+06               27.005              25.061   \n",
       "1        0.000    1.215e+09               27.005              25.061   \n",
       "2     3075.333    2.248e+09               27.005              25.061   \n",
       "3      269.933    1.704e+06               27.005              25.061   \n",
       "4     3177.000    1.994e+07               27.005              25.061   \n",
       "\n",
       "   IRRADIATION  DC_POWER  \n",
       "0          0.0       0.0  \n",
       "1          0.0       0.0  \n",
       "2          0.0       0.0  \n",
       "3          0.0       0.0  \n",
       "4          0.0       0.0  "
      ]
     },
     "execution_count": 53,
     "metadata": {},
     "output_type": "execute_result"
    }
   ],
   "source": [
    "X.head()"
   ]
  },
  {
   "cell_type": "code",
   "execution_count": 54,
   "id": "24cf8a35",
   "metadata": {
    "execution": {
     "iopub.execute_input": "2023-10-20T04:20:40.891997Z",
     "iopub.status.busy": "2023-10-20T04:20:40.891287Z",
     "iopub.status.idle": "2023-10-20T04:20:40.899508Z",
     "shell.execute_reply": "2023-10-20T04:20:40.898390Z"
    },
    "papermill": {
     "duration": 0.076749,
     "end_time": "2023-10-20T04:20:40.901624",
     "exception": false,
     "start_time": "2023-10-20T04:20:40.824875",
     "status": "completed"
    },
    "tags": []
   },
   "outputs": [
    {
     "data": {
      "text/plain": [
       "0    0.0\n",
       "1    0.0\n",
       "2    0.0\n",
       "3    0.0\n",
       "4    0.0\n",
       "Name: AC_POWER, dtype: float64"
      ]
     },
     "execution_count": 54,
     "metadata": {},
     "output_type": "execute_result"
    }
   ],
   "source": [
    "y.head()"
   ]
  },
  {
   "cell_type": "code",
   "execution_count": 55,
   "id": "4b3f4b4a",
   "metadata": {
    "execution": {
     "iopub.execute_input": "2023-10-20T04:20:41.032056Z",
     "iopub.status.busy": "2023-10-20T04:20:41.031363Z",
     "iopub.status.idle": "2023-10-20T04:20:41.134193Z",
     "shell.execute_reply": "2023-10-20T04:20:41.133215Z"
    },
    "papermill": {
     "duration": 0.170709,
     "end_time": "2023-10-20T04:20:41.136641",
     "exception": false,
     "start_time": "2023-10-20T04:20:40.965932",
     "status": "completed"
    },
    "tags": []
   },
   "outputs": [],
   "source": [
    "from sklearn.model_selection import train_test_split\n",
    "X_train,X_test,y_train,y_test = train_test_split(X,y,test_size=.2,random_state=21)"
   ]
  },
  {
   "cell_type": "markdown",
   "id": "35c57a38",
   "metadata": {
    "papermill": {
     "duration": 0.063573,
     "end_time": "2023-10-20T04:20:41.263382",
     "exception": false,
     "start_time": "2023-10-20T04:20:41.199809",
     "status": "completed"
    },
    "tags": []
   },
   "source": [
    "<span style=\"background-color:yellow;\n",
    "             color:Black;\n",
    "             font-size:25px;\n",
    "             text-align:center;\n",
    "             border-radius:30px 80px;\n",
    "             font-weight:bold;\n",
    "             border:2px solid red;\n",
    "             padding:0px 20px;\">1. LinearRegression\n",
    "</span>"
   ]
  },
  {
   "cell_type": "code",
   "execution_count": 56,
   "id": "e090f9f5",
   "metadata": {
    "execution": {
     "iopub.execute_input": "2023-10-20T04:20:41.394615Z",
     "iopub.status.busy": "2023-10-20T04:20:41.393025Z",
     "iopub.status.idle": "2023-10-20T04:20:41.543434Z",
     "shell.execute_reply": "2023-10-20T04:20:41.541695Z"
    },
    "papermill": {
     "duration": 0.221139,
     "end_time": "2023-10-20T04:20:41.548264",
     "exception": false,
     "start_time": "2023-10-20T04:20:41.327125",
     "status": "completed"
    },
    "tags": []
   },
   "outputs": [
    {
     "name": "stdout",
     "output_type": "stream",
     "text": [
      "LR Model score = 99.9994%\n"
     ]
    }
   ],
   "source": [
    "from sklearn.linear_model import LinearRegression\n",
    "from sklearn.metrics import r2_score\n",
    "\n",
    "lr_clf = LinearRegression()\n",
    "lr_clf.fit(X_train,y_train)\n",
    "score_lr = 100*lr_clf.score(X_test,y_test)\n",
    "print(f'LR Model score = {score_lr:4.4f}%')"
   ]
  },
  {
   "cell_type": "code",
   "execution_count": 57,
   "id": "0bf9226f",
   "metadata": {
    "execution": {
     "iopub.execute_input": "2023-10-20T04:20:41.741985Z",
     "iopub.status.busy": "2023-10-20T04:20:41.741579Z",
     "iopub.status.idle": "2023-10-20T04:20:41.768866Z",
     "shell.execute_reply": "2023-10-20T04:20:41.767230Z"
    },
    "papermill": {
     "duration": 0.098168,
     "end_time": "2023-10-20T04:20:41.773386",
     "exception": false,
     "start_time": "2023-10-20T04:20:41.675218",
     "status": "completed"
    },
    "tags": []
   },
   "outputs": [
    {
     "name": "stdout",
     "output_type": "stream",
     "text": [
      "R2 Score :  100.0 %\n"
     ]
    }
   ],
   "source": [
    "from sklearn.linear_model import LinearRegression\n",
    "from sklearn.metrics import r2_score\n",
    "\n",
    "lr = LinearRegression()\n",
    "lr.fit(X_train,y_train)\n",
    "y_pred_lr = lr.predict(X_test)\n",
    "R2_Score_lr = round(r2_score(y_pred_lr,y_test) * 100, 2)\n",
    "\n",
    "print(\"R2 Score : \",R2_Score_lr,\"%\")"
   ]
  },
  {
   "cell_type": "markdown",
   "id": "3087b7a0",
   "metadata": {
    "papermill": {
     "duration": 0.064388,
     "end_time": "2023-10-20T04:20:41.988848",
     "exception": false,
     "start_time": "2023-10-20T04:20:41.924460",
     "status": "completed"
    },
    "tags": []
   },
   "source": [
    "<span style=\"background-color:yellow;\n",
    "             color:Black;\n",
    "             font-size:25px;\n",
    "             text-align:center;\n",
    "             border-radius:30px 80px;\n",
    "             font-weight:bold;\n",
    "             border:2px solid red;\n",
    "             padding:0px 20px;\">2. RandomForestRegressor\n",
    "</span>"
   ]
  },
  {
   "cell_type": "code",
   "execution_count": 58,
   "id": "07b529d3",
   "metadata": {
    "execution": {
     "iopub.execute_input": "2023-10-20T04:20:42.117636Z",
     "iopub.status.busy": "2023-10-20T04:20:42.116316Z",
     "iopub.status.idle": "2023-10-20T04:20:58.398209Z",
     "shell.execute_reply": "2023-10-20T04:20:58.396409Z"
    },
    "papermill": {
     "duration": 16.349625,
     "end_time": "2023-10-20T04:20:58.402696",
     "exception": false,
     "start_time": "2023-10-20T04:20:42.053071",
     "status": "completed"
    },
    "tags": []
   },
   "outputs": [
    {
     "name": "stdout",
     "output_type": "stream",
     "text": [
      "R2 Score :  100.0 %\n"
     ]
    }
   ],
   "source": [
    "from sklearn.ensemble import RandomForestRegressor\n",
    "rfr = RandomForestRegressor()\n",
    "rfr.fit(X_train,y_train)\n",
    "y_pred_rfr = lr.predict(X_test)\n",
    "R2_Score_rfr = round(r2_score(y_pred_rfr,y_test) * 100, 2)\n",
    "\n",
    "print(\"R2 Score : \",R2_Score_rfr,\"%\")"
   ]
  },
  {
   "cell_type": "markdown",
   "id": "2c26cf88",
   "metadata": {
    "papermill": {
     "duration": 0.061284,
     "end_time": "2023-10-20T04:20:58.593272",
     "exception": false,
     "start_time": "2023-10-20T04:20:58.531988",
     "status": "completed"
    },
    "tags": []
   },
   "source": [
    "<span style=\"background-color:yellow;\n",
    "             color:Black;\n",
    "             font-size:25px;\n",
    "             text-align:center;\n",
    "             border-radius:30px 80px;\n",
    "             font-weight:bold;\n",
    "             border:2px solid red;\n",
    "             padding:0px 20px;\">3. DecisionTreeRegressor\n",
    "</span>"
   ]
  },
  {
   "cell_type": "code",
   "execution_count": 59,
   "id": "726fdfc0",
   "metadata": {
    "execution": {
     "iopub.execute_input": "2023-10-20T04:20:58.718616Z",
     "iopub.status.busy": "2023-10-20T04:20:58.718239Z",
     "iopub.status.idle": "2023-10-20T04:20:58.980862Z",
     "shell.execute_reply": "2023-10-20T04:20:58.979515Z"
    },
    "papermill": {
     "duration": 0.330061,
     "end_time": "2023-10-20T04:20:58.985082",
     "exception": false,
     "start_time": "2023-10-20T04:20:58.655021",
     "status": "completed"
    },
    "tags": []
   },
   "outputs": [
    {
     "name": "stdout",
     "output_type": "stream",
     "text": [
      "R2 Score :  100.0 %\n"
     ]
    }
   ],
   "source": [
    "from sklearn.tree import DecisionTreeRegressor\n",
    "dtr = DecisionTreeRegressor()\n",
    "dtr.fit(X_train,y_train)\n",
    "\n",
    "y_pred_dtr = lr.predict(X_test)\n",
    "R2_Score_dtr = round(r2_score(y_pred_dtr,y_test) * 100, 2)\n",
    "\n",
    "print(\"R2 Score : \",R2_Score_dtr,\"%\")"
   ]
  },
  {
   "cell_type": "markdown",
   "id": "ac518a9e",
   "metadata": {
    "papermill": {
     "duration": 0.061768,
     "end_time": "2023-10-20T04:20:59.176394",
     "exception": false,
     "start_time": "2023-10-20T04:20:59.114626",
     "status": "completed"
    },
    "tags": []
   },
   "source": [
    "<span style=\"background-color:red;\n",
    "             color:white;\n",
    "             font-size:17px;\n",
    "             text-align:center;\n",
    "             border-radius:30px 80px;\n",
    "             font-weight:bold;\n",
    "             border:2px solid red;\n",
    "             padding:0px 20px;\">12. Result Prediction\n",
    "</span>"
   ]
  },
  {
   "cell_type": "code",
   "execution_count": 60,
   "id": "d440309a",
   "metadata": {
    "execution": {
     "iopub.execute_input": "2023-10-20T04:20:59.302738Z",
     "iopub.status.busy": "2023-10-20T04:20:59.302318Z",
     "iopub.status.idle": "2023-10-20T04:20:59.584537Z",
     "shell.execute_reply": "2023-10-20T04:20:59.583437Z"
    },
    "papermill": {
     "duration": 0.348958,
     "end_time": "2023-10-20T04:20:59.586993",
     "exception": false,
     "start_time": "2023-10-20T04:20:59.238035",
     "status": "completed"
    },
    "tags": []
   },
   "outputs": [
    {
     "name": "stdout",
     "output_type": "stream",
     "text": [
      "[   0.            0.          684.68732857 ...    0.         1007.1675381\n",
      "    0.        ]\n"
     ]
    }
   ],
   "source": [
    "prediction = rfr.predict(X_test)\n",
    "print(prediction)"
   ]
  },
  {
   "cell_type": "code",
   "execution_count": 61,
   "id": "38cade44",
   "metadata": {
    "execution": {
     "iopub.execute_input": "2023-10-20T04:20:59.717195Z",
     "iopub.status.busy": "2023-10-20T04:20:59.716784Z",
     "iopub.status.idle": "2023-10-20T04:20:59.729053Z",
     "shell.execute_reply": "2023-10-20T04:20:59.727774Z"
    },
    "papermill": {
     "duration": 0.081435,
     "end_time": "2023-10-20T04:20:59.731339",
     "exception": false,
     "start_time": "2023-10-20T04:20:59.649904",
     "status": "completed"
    },
    "tags": []
   },
   "outputs": [
    {
     "data": {
      "text/html": [
       "<div>\n",
       "<style scoped>\n",
       "    .dataframe tbody tr th:only-of-type {\n",
       "        vertical-align: middle;\n",
       "    }\n",
       "\n",
       "    .dataframe tbody tr th {\n",
       "        vertical-align: top;\n",
       "    }\n",
       "\n",
       "    .dataframe thead th {\n",
       "        text-align: right;\n",
       "    }\n",
       "</style>\n",
       "<table border=\"1\" class=\"dataframe\">\n",
       "  <thead>\n",
       "    <tr style=\"text-align: right;\">\n",
       "      <th></th>\n",
       "      <th>Actual</th>\n",
       "      <th>Predicted</th>\n",
       "    </tr>\n",
       "  </thead>\n",
       "  <tbody>\n",
       "    <tr>\n",
       "      <th>40426</th>\n",
       "      <td>0.000</td>\n",
       "      <td>0.000</td>\n",
       "    </tr>\n",
       "    <tr>\n",
       "      <th>50974</th>\n",
       "      <td>0.000</td>\n",
       "      <td>0.000</td>\n",
       "    </tr>\n",
       "    <tr>\n",
       "      <th>53919</th>\n",
       "      <td>684.913</td>\n",
       "      <td>684.687</td>\n",
       "    </tr>\n",
       "    <tr>\n",
       "      <th>2384</th>\n",
       "      <td>0.000</td>\n",
       "      <td>0.000</td>\n",
       "    </tr>\n",
       "    <tr>\n",
       "      <th>22014</th>\n",
       "      <td>0.000</td>\n",
       "      <td>0.000</td>\n",
       "    </tr>\n",
       "  </tbody>\n",
       "</table>\n",
       "</div>"
      ],
      "text/plain": [
       "        Actual  Predicted\n",
       "40426    0.000      0.000\n",
       "50974    0.000      0.000\n",
       "53919  684.913    684.687\n",
       "2384     0.000      0.000\n",
       "22014    0.000      0.000"
      ]
     },
     "execution_count": 61,
     "metadata": {},
     "output_type": "execute_result"
    }
   ],
   "source": [
    "cross_checking = pd.DataFrame({'Actual' : y_test , 'Predicted' : prediction})\n",
    "cross_checking.head()"
   ]
  },
  {
   "cell_type": "code",
   "execution_count": 62,
   "id": "878c12fa",
   "metadata": {
    "execution": {
     "iopub.execute_input": "2023-10-20T04:20:59.864331Z",
     "iopub.status.busy": "2023-10-20T04:20:59.863890Z",
     "iopub.status.idle": "2023-10-20T04:20:59.876843Z",
     "shell.execute_reply": "2023-10-20T04:20:59.875952Z"
    },
    "papermill": {
     "duration": 0.080392,
     "end_time": "2023-10-20T04:20:59.879122",
     "exception": false,
     "start_time": "2023-10-20T04:20:59.798730",
     "status": "completed"
    },
    "tags": []
   },
   "outputs": [
    {
     "data": {
      "text/html": [
       "<div>\n",
       "<style scoped>\n",
       "    .dataframe tbody tr th:only-of-type {\n",
       "        vertical-align: middle;\n",
       "    }\n",
       "\n",
       "    .dataframe tbody tr th {\n",
       "        vertical-align: top;\n",
       "    }\n",
       "\n",
       "    .dataframe thead th {\n",
       "        text-align: right;\n",
       "    }\n",
       "</style>\n",
       "<table border=\"1\" class=\"dataframe\">\n",
       "  <thead>\n",
       "    <tr style=\"text-align: right;\">\n",
       "      <th></th>\n",
       "      <th>Actual</th>\n",
       "      <th>Predicted</th>\n",
       "      <th>Error</th>\n",
       "    </tr>\n",
       "  </thead>\n",
       "  <tbody>\n",
       "    <tr>\n",
       "      <th>40426</th>\n",
       "      <td>0.000</td>\n",
       "      <td>0.000</td>\n",
       "      <td>0.000</td>\n",
       "    </tr>\n",
       "    <tr>\n",
       "      <th>50974</th>\n",
       "      <td>0.000</td>\n",
       "      <td>0.000</td>\n",
       "      <td>0.000</td>\n",
       "    </tr>\n",
       "    <tr>\n",
       "      <th>53919</th>\n",
       "      <td>684.913</td>\n",
       "      <td>684.687</td>\n",
       "      <td>0.226</td>\n",
       "    </tr>\n",
       "    <tr>\n",
       "      <th>2384</th>\n",
       "      <td>0.000</td>\n",
       "      <td>0.000</td>\n",
       "      <td>0.000</td>\n",
       "    </tr>\n",
       "    <tr>\n",
       "      <th>22014</th>\n",
       "      <td>0.000</td>\n",
       "      <td>0.000</td>\n",
       "      <td>0.000</td>\n",
       "    </tr>\n",
       "  </tbody>\n",
       "</table>\n",
       "</div>"
      ],
      "text/plain": [
       "        Actual  Predicted  Error\n",
       "40426    0.000      0.000  0.000\n",
       "50974    0.000      0.000  0.000\n",
       "53919  684.913    684.687  0.226\n",
       "2384     0.000      0.000  0.000\n",
       "22014    0.000      0.000  0.000"
      ]
     },
     "execution_count": 62,
     "metadata": {},
     "output_type": "execute_result"
    }
   ],
   "source": [
    "cross_checking['Error'] = cross_checking['Actual'] - cross_checking['Predicted']\n",
    "cross_checking.head()"
   ]
  },
  {
   "cell_type": "code",
   "execution_count": 64,
   "metadata": {},
   "outputs": [
    {
     "data": {
      "text/html": [
       "<style type=\"text/css\">\n",
       "#T_a09a3_row0_col0, #T_a09a3_row0_col1 {\n",
       "  background-color: #536edd;\n",
       "  color: #f1f1f1;\n",
       "  font-family: Lucida Calligraphy;\n",
       "  color: LigntGreen;\n",
       "  font-size: 15px;\n",
       "}\n",
       "#T_a09a3_row0_col2, #T_a09a3_row14_col2 {\n",
       "  background-color: #96b7ff;\n",
       "  color: #000000;\n",
       "  font-family: Lucida Calligraphy;\n",
       "  color: LigntGreen;\n",
       "  font-size: 15px;\n",
       "}\n",
       "#T_a09a3_row1_col0, #T_a09a3_row1_col1, #T_a09a3_row2_col0, #T_a09a3_row2_col1, #T_a09a3_row3_col0, #T_a09a3_row3_col1, #T_a09a3_row5_col0, #T_a09a3_row5_col1, #T_a09a3_row6_col0, #T_a09a3_row6_col1, #T_a09a3_row7_col0, #T_a09a3_row7_col1, #T_a09a3_row8_col2, #T_a09a3_row9_col0, #T_a09a3_row9_col1, #T_a09a3_row11_col0, #T_a09a3_row11_col1, #T_a09a3_row12_col0, #T_a09a3_row12_col1, #T_a09a3_row15_col0, #T_a09a3_row15_col1, #T_a09a3_row16_col0, #T_a09a3_row16_col1, #T_a09a3_row18_col0, #T_a09a3_row18_col1, #T_a09a3_row19_col0, #T_a09a3_row19_col1, #T_a09a3_row20_col0, #T_a09a3_row20_col1, #T_a09a3_row21_col0, #T_a09a3_row21_col1, #T_a09a3_row23_col0, #T_a09a3_row23_col1, #T_a09a3_row24_col0, #T_a09a3_row24_col1 {\n",
       "  background-color: #3b4cc0;\n",
       "  color: #f1f1f1;\n",
       "  font-family: Lucida Calligraphy;\n",
       "  color: LigntGreen;\n",
       "  font-size: 15px;\n",
       "}\n",
       "#T_a09a3_row1_col2, #T_a09a3_row2_col2, #T_a09a3_row3_col2, #T_a09a3_row6_col2, #T_a09a3_row7_col2, #T_a09a3_row9_col2, #T_a09a3_row11_col2, #T_a09a3_row12_col2, #T_a09a3_row15_col2, #T_a09a3_row16_col2, #T_a09a3_row18_col2, #T_a09a3_row19_col2, #T_a09a3_row20_col2, #T_a09a3_row21_col2, #T_a09a3_row23_col2, #T_a09a3_row24_col2 {\n",
       "  background-color: #90b2fe;\n",
       "  color: #000000;\n",
       "  font-family: Lucida Calligraphy;\n",
       "  color: LigntGreen;\n",
       "  font-size: 15px;\n",
       "}\n",
       "#T_a09a3_row4_col0, #T_a09a3_row4_col1, #T_a09a3_row4_col2 {\n",
       "  background-color: #b40426;\n",
       "  color: #f1f1f1;\n",
       "  font-family: Lucida Calligraphy;\n",
       "  color: LigntGreen;\n",
       "  font-size: 15px;\n",
       "}\n",
       "#T_a09a3_row5_col2 {\n",
       "  background-color: #93b5fe;\n",
       "  color: #000000;\n",
       "  font-family: Lucida Calligraphy;\n",
       "  color: LigntGreen;\n",
       "  font-size: 15px;\n",
       "}\n",
       "#T_a09a3_row8_col0, #T_a09a3_row8_col1 {\n",
       "  background-color: #5875e1;\n",
       "  color: #f1f1f1;\n",
       "  font-family: Lucida Calligraphy;\n",
       "  color: LigntGreen;\n",
       "  font-size: 15px;\n",
       "}\n",
       "#T_a09a3_row10_col0, #T_a09a3_row10_col1 {\n",
       "  background-color: #d44e41;\n",
       "  color: #f1f1f1;\n",
       "  font-family: Lucida Calligraphy;\n",
       "  color: LigntGreen;\n",
       "  font-size: 15px;\n",
       "}\n",
       "#T_a09a3_row10_col2, #T_a09a3_row13_col0, #T_a09a3_row13_col1 {\n",
       "  background-color: #6e90f2;\n",
       "  color: #f1f1f1;\n",
       "  font-family: Lucida Calligraphy;\n",
       "  color: LigntGreen;\n",
       "  font-size: 15px;\n",
       "}\n",
       "#T_a09a3_row13_col2 {\n",
       "  background-color: #c0d4f5;\n",
       "  color: #000000;\n",
       "  font-family: Lucida Calligraphy;\n",
       "  color: LigntGreen;\n",
       "  font-size: 15px;\n",
       "}\n",
       "#T_a09a3_row14_col0, #T_a09a3_row14_col1 {\n",
       "  background-color: #c9d7f0;\n",
       "  color: #000000;\n",
       "  font-family: Lucida Calligraphy;\n",
       "  color: LigntGreen;\n",
       "  font-size: 15px;\n",
       "}\n",
       "#T_a09a3_row17_col0, #T_a09a3_row17_col1 {\n",
       "  background-color: #8db0fe;\n",
       "  color: #000000;\n",
       "  font-family: Lucida Calligraphy;\n",
       "  color: LigntGreen;\n",
       "  font-size: 15px;\n",
       "}\n",
       "#T_a09a3_row17_col2 {\n",
       "  background-color: #5572df;\n",
       "  color: #f1f1f1;\n",
       "  font-family: Lucida Calligraphy;\n",
       "  color: LigntGreen;\n",
       "  font-size: 15px;\n",
       "}\n",
       "#T_a09a3_row22_col0, #T_a09a3_row22_col1 {\n",
       "  background-color: #7093f3;\n",
       "  color: #f1f1f1;\n",
       "  font-family: Lucida Calligraphy;\n",
       "  color: LigntGreen;\n",
       "  font-size: 15px;\n",
       "}\n",
       "#T_a09a3_row22_col2 {\n",
       "  background-color: #cfdaea;\n",
       "  color: #000000;\n",
       "  font-family: Lucida Calligraphy;\n",
       "  color: LigntGreen;\n",
       "  font-size: 15px;\n",
       "}\n",
       "</style>\n",
       "<table id=\"T_a09a3_\">\n",
       "  <thead>\n",
       "    <tr>\n",
       "      <th class=\"blank level0\" >&nbsp;</th>\n",
       "      <th class=\"col_heading level0 col0\" >Actual</th>\n",
       "      <th class=\"col_heading level0 col1\" >Predicted</th>\n",
       "      <th class=\"col_heading level0 col2\" >Error</th>\n",
       "    </tr>\n",
       "  </thead>\n",
       "  <tbody>\n",
       "    <tr>\n",
       "      <th id=\"T_a09a3_level0_row0\" class=\"row_heading level0 row0\" >21071</th>\n",
       "      <td id=\"T_a09a3_row0_col0\" class=\"data row0 col0\" >87.087</td>\n",
       "      <td id=\"T_a09a3_row0_col1\" class=\"data row0 col1\" >87.076</td>\n",
       "      <td id=\"T_a09a3_row0_col2\" class=\"data row0 col2\" >0.011</td>\n",
       "    </tr>\n",
       "    <tr>\n",
       "      <th id=\"T_a09a3_level0_row1\" class=\"row_heading level0 row1\" >15573</th>\n",
       "      <td id=\"T_a09a3_row1_col0\" class=\"data row1 col0\" >0.000</td>\n",
       "      <td id=\"T_a09a3_row1_col1\" class=\"data row1 col1\" >0.000</td>\n",
       "      <td id=\"T_a09a3_row1_col2\" class=\"data row1 col2\" >0.000</td>\n",
       "    </tr>\n",
       "    <tr>\n",
       "      <th id=\"T_a09a3_level0_row2\" class=\"row_heading level0 row2\" >10367</th>\n",
       "      <td id=\"T_a09a3_row2_col0\" class=\"data row2 col0\" >0.000</td>\n",
       "      <td id=\"T_a09a3_row2_col1\" class=\"data row2 col1\" >0.000</td>\n",
       "      <td id=\"T_a09a3_row2_col2\" class=\"data row2 col2\" >0.000</td>\n",
       "    </tr>\n",
       "    <tr>\n",
       "      <th id=\"T_a09a3_level0_row3\" class=\"row_heading level0 row3\" >15433</th>\n",
       "      <td id=\"T_a09a3_row3_col0\" class=\"data row3 col0\" >0.000</td>\n",
       "      <td id=\"T_a09a3_row3_col1\" class=\"data row3 col1\" >0.000</td>\n",
       "      <td id=\"T_a09a3_row3_col2\" class=\"data row3 col2\" >0.000</td>\n",
       "    </tr>\n",
       "    <tr>\n",
       "      <th id=\"T_a09a3_level0_row4\" class=\"row_heading level0 row4\" >7581</th>\n",
       "      <td id=\"T_a09a3_row4_col0\" class=\"data row4 col0\" >1071.427</td>\n",
       "      <td id=\"T_a09a3_row4_col1\" class=\"data row4 col1\" >1070.873</td>\n",
       "      <td id=\"T_a09a3_row4_col2\" class=\"data row4 col2\" >0.553</td>\n",
       "    </tr>\n",
       "    <tr>\n",
       "      <th id=\"T_a09a3_level0_row5\" class=\"row_heading level0 row5\" >3663</th>\n",
       "      <td id=\"T_a09a3_row5_col0\" class=\"data row5 col0\" >0.520</td>\n",
       "      <td id=\"T_a09a3_row5_col1\" class=\"data row5 col1\" >0.515</td>\n",
       "      <td id=\"T_a09a3_row5_col2\" class=\"data row5 col2\" >0.005</td>\n",
       "    </tr>\n",
       "    <tr>\n",
       "      <th id=\"T_a09a3_level0_row6\" class=\"row_heading level0 row6\" >53180</th>\n",
       "      <td id=\"T_a09a3_row6_col0\" class=\"data row6 col0\" >0.000</td>\n",
       "      <td id=\"T_a09a3_row6_col1\" class=\"data row6 col1\" >0.000</td>\n",
       "      <td id=\"T_a09a3_row6_col2\" class=\"data row6 col2\" >0.000</td>\n",
       "    </tr>\n",
       "    <tr>\n",
       "      <th id=\"T_a09a3_level0_row7\" class=\"row_heading level0 row7\" >35881</th>\n",
       "      <td id=\"T_a09a3_row7_col0\" class=\"data row7 col0\" >0.000</td>\n",
       "      <td id=\"T_a09a3_row7_col1\" class=\"data row7 col1\" >0.000</td>\n",
       "      <td id=\"T_a09a3_row7_col2\" class=\"data row7 col2\" >0.000</td>\n",
       "    </tr>\n",
       "    <tr>\n",
       "      <th id=\"T_a09a3_level0_row8\" class=\"row_heading level0 row8\" >10779</th>\n",
       "      <td id=\"T_a09a3_row8_col0\" class=\"data row8 col0\" >103.867</td>\n",
       "      <td id=\"T_a09a3_row8_col1\" class=\"data row8 col1\" >104.062</td>\n",
       "      <td id=\"T_a09a3_row8_col2\" class=\"data row8 col2\" >-0.195</td>\n",
       "    </tr>\n",
       "    <tr>\n",
       "      <th id=\"T_a09a3_level0_row9\" class=\"row_heading level0 row9\" >55205</th>\n",
       "      <td id=\"T_a09a3_row9_col0\" class=\"data row9 col0\" >0.000</td>\n",
       "      <td id=\"T_a09a3_row9_col1\" class=\"data row9 col1\" >0.000</td>\n",
       "      <td id=\"T_a09a3_row9_col2\" class=\"data row9 col2\" >0.000</td>\n",
       "    </tr>\n",
       "    <tr>\n",
       "      <th id=\"T_a09a3_level0_row10\" class=\"row_heading level0 row10\" >43486</th>\n",
       "      <td id=\"T_a09a3_row10_col0\" class=\"data row10 col0\" >974.587</td>\n",
       "      <td id=\"T_a09a3_row10_col1\" class=\"data row10 col1\" >974.661</td>\n",
       "      <td id=\"T_a09a3_row10_col2\" class=\"data row10 col2\" >-0.074</td>\n",
       "    </tr>\n",
       "    <tr>\n",
       "      <th id=\"T_a09a3_level0_row11\" class=\"row_heading level0 row11\" >15730</th>\n",
       "      <td id=\"T_a09a3_row11_col0\" class=\"data row11 col0\" >0.000</td>\n",
       "      <td id=\"T_a09a3_row11_col1\" class=\"data row11 col1\" >0.000</td>\n",
       "      <td id=\"T_a09a3_row11_col2\" class=\"data row11 col2\" >0.000</td>\n",
       "    </tr>\n",
       "    <tr>\n",
       "      <th id=\"T_a09a3_level0_row12\" class=\"row_heading level0 row12\" >24367</th>\n",
       "      <td id=\"T_a09a3_row12_col0\" class=\"data row12 col0\" >0.000</td>\n",
       "      <td id=\"T_a09a3_row12_col1\" class=\"data row12 col1\" >0.000</td>\n",
       "      <td id=\"T_a09a3_row12_col2\" class=\"data row12 col2\" >0.000</td>\n",
       "    </tr>\n",
       "    <tr>\n",
       "      <th id=\"T_a09a3_level0_row13\" class=\"row_heading level0 row13\" >54361</th>\n",
       "      <td id=\"T_a09a3_row13_col0\" class=\"data row13 col0\" >174.313</td>\n",
       "      <td id=\"T_a09a3_row13_col1\" class=\"data row13 col1\" >174.208</td>\n",
       "      <td id=\"T_a09a3_row13_col2\" class=\"data row13 col2\" >0.106</td>\n",
       "    </tr>\n",
       "    <tr>\n",
       "      <th id=\"T_a09a3_level0_row14\" class=\"row_heading level0 row14\" >36931</th>\n",
       "      <td id=\"T_a09a3_row14_col0\" class=\"data row14 col0\" >458.927</td>\n",
       "      <td id=\"T_a09a3_row14_col1\" class=\"data row14 col1\" >458.915</td>\n",
       "      <td id=\"T_a09a3_row14_col2\" class=\"data row14 col2\" >0.012</td>\n",
       "    </tr>\n",
       "    <tr>\n",
       "      <th id=\"T_a09a3_level0_row15\" class=\"row_heading level0 row15\" >63037</th>\n",
       "      <td id=\"T_a09a3_row15_col0\" class=\"data row15 col0\" >0.000</td>\n",
       "      <td id=\"T_a09a3_row15_col1\" class=\"data row15 col1\" >0.000</td>\n",
       "      <td id=\"T_a09a3_row15_col2\" class=\"data row15 col2\" >0.000</td>\n",
       "    </tr>\n",
       "    <tr>\n",
       "      <th id=\"T_a09a3_level0_row16\" class=\"row_heading level0 row16\" >29902</th>\n",
       "      <td id=\"T_a09a3_row16_col0\" class=\"data row16 col0\" >0.000</td>\n",
       "      <td id=\"T_a09a3_row16_col1\" class=\"data row16 col1\" >0.000</td>\n",
       "      <td id=\"T_a09a3_row16_col2\" class=\"data row16 col2\" >0.000</td>\n",
       "    </tr>\n",
       "    <tr>\n",
       "      <th id=\"T_a09a3_level0_row17\" class=\"row_heading level0 row17\" >66358</th>\n",
       "      <td id=\"T_a09a3_row17_col0\" class=\"data row17 col0\" >268.013</td>\n",
       "      <td id=\"T_a09a3_row17_col1\" class=\"data row17 col1\" >268.144</td>\n",
       "      <td id=\"T_a09a3_row17_col2\" class=\"data row17 col2\" >-0.130</td>\n",
       "    </tr>\n",
       "    <tr>\n",
       "      <th id=\"T_a09a3_level0_row18\" class=\"row_heading level0 row18\" >40683</th>\n",
       "      <td id=\"T_a09a3_row18_col0\" class=\"data row18 col0\" >0.000</td>\n",
       "      <td id=\"T_a09a3_row18_col1\" class=\"data row18 col1\" >0.000</td>\n",
       "      <td id=\"T_a09a3_row18_col2\" class=\"data row18 col2\" >0.000</td>\n",
       "    </tr>\n",
       "    <tr>\n",
       "      <th id=\"T_a09a3_level0_row19\" class=\"row_heading level0 row19\" >42296</th>\n",
       "      <td id=\"T_a09a3_row19_col0\" class=\"data row19 col0\" >0.000</td>\n",
       "      <td id=\"T_a09a3_row19_col1\" class=\"data row19 col1\" >0.000</td>\n",
       "      <td id=\"T_a09a3_row19_col2\" class=\"data row19 col2\" >0.000</td>\n",
       "    </tr>\n",
       "    <tr>\n",
       "      <th id=\"T_a09a3_level0_row20\" class=\"row_heading level0 row20\" >8509</th>\n",
       "      <td id=\"T_a09a3_row20_col0\" class=\"data row20 col0\" >0.000</td>\n",
       "      <td id=\"T_a09a3_row20_col1\" class=\"data row20 col1\" >0.000</td>\n",
       "      <td id=\"T_a09a3_row20_col2\" class=\"data row20 col2\" >0.000</td>\n",
       "    </tr>\n",
       "    <tr>\n",
       "      <th id=\"T_a09a3_level0_row21\" class=\"row_heading level0 row21\" >63510</th>\n",
       "      <td id=\"T_a09a3_row21_col0\" class=\"data row21 col0\" >0.000</td>\n",
       "      <td id=\"T_a09a3_row21_col1\" class=\"data row21 col1\" >0.000</td>\n",
       "      <td id=\"T_a09a3_row21_col2\" class=\"data row21 col2\" >0.000</td>\n",
       "    </tr>\n",
       "    <tr>\n",
       "      <th id=\"T_a09a3_level0_row22\" class=\"row_heading level0 row22\" >66298</th>\n",
       "      <td id=\"T_a09a3_row22_col0\" class=\"data row22 col0\" >183.457</td>\n",
       "      <td id=\"T_a09a3_row22_col1\" class=\"data row22 col1\" >183.314</td>\n",
       "      <td id=\"T_a09a3_row22_col2\" class=\"data row22 col2\" >0.144</td>\n",
       "    </tr>\n",
       "    <tr>\n",
       "      <th id=\"T_a09a3_level0_row23\" class=\"row_heading level0 row23\" >55541</th>\n",
       "      <td id=\"T_a09a3_row23_col0\" class=\"data row23 col0\" >0.000</td>\n",
       "      <td id=\"T_a09a3_row23_col1\" class=\"data row23 col1\" >0.000</td>\n",
       "      <td id=\"T_a09a3_row23_col2\" class=\"data row23 col2\" >0.000</td>\n",
       "    </tr>\n",
       "    <tr>\n",
       "      <th id=\"T_a09a3_level0_row24\" class=\"row_heading level0 row24\" >51244</th>\n",
       "      <td id=\"T_a09a3_row24_col0\" class=\"data row24 col0\" >0.000</td>\n",
       "      <td id=\"T_a09a3_row24_col1\" class=\"data row24 col1\" >0.000</td>\n",
       "      <td id=\"T_a09a3_row24_col2\" class=\"data row24 col2\" >0.000</td>\n",
       "    </tr>\n",
       "  </tbody>\n",
       "</table>\n"
      ],
      "text/plain": [
       "<pandas.io.formats.style.Styler at 0x19046857388>"
      ]
     },
     "execution_count": 64,
     "metadata": {},
     "output_type": "execute_result"
    }
   ],
   "source": [
    "cross_checking_final  = cross_checking[cross_checking['Error'] <= 20]\n",
    "cross_checking_final.sample(25).style.background_gradient(\n",
    "        cmap='coolwarm').set_properties(**{\n",
    "            'font-family': 'Lucida Calligraphy',\n",
    "            'color': 'LigntGreen',\n",
    "            'font-size': '15px'\n",
    "        })"
   ]
  }
 ],
 "metadata": {
  "kernelspec": {
   "display_name": "Python 3",
   "language": "python",
   "name": "python3"
  },
  "language_info": {
   "codemirror_mode": {
    "name": "ipython",
    "version": 3
   },
   "file_extension": ".py",
   "mimetype": "text/x-python",
   "name": "python",
   "nbconvert_exporter": "python",
   "pygments_lexer": "ipython3",
   "version": "3.7.13"
  },
  "papermill": {
   "default_parameters": {},
   "duration": 77.947695,
   "end_time": "2023-10-20T04:21:01.043033",
   "environment_variables": {},
   "exception": null,
   "input_path": "__notebook__.ipynb",
   "output_path": "__notebook__.ipynb",
   "parameters": {},
   "start_time": "2023-10-20T04:19:43.095338",
   "version": "2.3.4"
  }
 },
 "nbformat": 4,
 "nbformat_minor": 5
}
